{
  "nbformat": 4,
  "nbformat_minor": 0,
  "metadata": {
    "colab": {
      "provenance": []
    },
    "kernelspec": {
      "name": "python3",
      "display_name": "Python 3"
    },
    "language_info": {
      "name": "python"
    }
  },
  "cells": [
    {
      "cell_type": "markdown",
      "source": [
        "# Text Rank Algorithm"
      ],
      "metadata": {
        "id": "zTDZkdfbBYDS"
      }
    },
    {
      "cell_type": "code",
      "source": [
        "pip install gensim"
      ],
      "metadata": {
        "colab": {
          "base_uri": "https://localhost:8080/"
        },
        "id": "T1Tlih7L-yht",
        "outputId": "85d3171d-fe7e-48bb-b053-613e47cb8817"
      },
      "execution_count": null,
      "outputs": [
        {
          "output_type": "stream",
          "name": "stdout",
          "text": [
            "Looking in indexes: https://pypi.org/simple, https://us-python.pkg.dev/colab-wheels/public/simple/\n",
            "Requirement already satisfied: gensim in /usr/local/lib/python3.9/dist-packages (4.3.1)\n",
            "Requirement already satisfied: scipy>=1.7.0 in /usr/local/lib/python3.9/dist-packages (from gensim) (1.10.1)\n",
            "Requirement already satisfied: numpy>=1.18.5 in /usr/local/lib/python3.9/dist-packages (from gensim) (1.22.4)\n",
            "Requirement already satisfied: smart-open>=1.8.1 in /usr/local/lib/python3.9/dist-packages (from gensim) (6.3.0)\n"
          ]
        }
      ]
    },
    {
      "cell_type": "code",
      "source": [
        "import numpy as np\n",
        "import pandas as pd\n",
        "import nltk\n",
        "import re\n",
        "from nltk.tokenize import sent_tokenize\n",
        "from nltk.corpus import stopwords\n",
        "from gensim.models import Word2Vec\n",
        "from scipy import spatial\n",
        "import networkx as nx"
      ],
      "metadata": {
        "id": "uRyiTR2--faK"
      },
      "execution_count": null,
      "outputs": []
    },
    {
      "cell_type": "code",
      "source": [
        "text='''Santiago is a Shepherd who has a recurring dream which is supposedly prophetic. Inspired on learning this, he undertakes a journey to Egypt to discover the meaning of life and fulfill his destiny. During the course of his travels, he learns of his true purpose and meets many characters, including an “Alchemist”, that teach him valuable lessons about achieving his dreams. Santiago sets his sights on obtaining a certain kind of “treasure” for which he travels to Egypt. The key message is, “when you want something, all the universe conspires in helping you to achieve it.” Towards the final arc, Santiago gets robbed by bandits who end up revealing that the “treasure” he was looking for is buried in the place where his journey began. The end.'''"
      ],
      "metadata": {
        "id": "cOUjqPcH_Tov"
      },
      "execution_count": null,
      "outputs": []
    },
    {
      "cell_type": "code",
      "source": [
        "import nltk\n",
        "nltk.download('punkt')\n",
        "  "
      ],
      "metadata": {
        "colab": {
          "base_uri": "https://localhost:8080/"
        },
        "id": "ijwzx0U7_dMi",
        "outputId": "fad9324f-3d0d-44e5-e9a4-d6f0e6e869d9"
      },
      "execution_count": null,
      "outputs": [
        {
          "output_type": "stream",
          "name": "stderr",
          "text": [
            "[nltk_data] Downloading package punkt to /root/nltk_data...\n",
            "[nltk_data]   Unzipping tokenizers/punkt.zip.\n"
          ]
        },
        {
          "output_type": "execute_result",
          "data": {
            "text/plain": [
              "True"
            ]
          },
          "metadata": {},
          "execution_count": 12
        }
      ]
    },
    {
      "cell_type": "code",
      "source": [
        "sentences=sent_tokenize(text)"
      ],
      "metadata": {
        "id": "5TGpcYpi_Wp8"
      },
      "execution_count": null,
      "outputs": []
    },
    {
      "cell_type": "code",
      "source": [
        "nltk.download('stopwords')"
      ],
      "metadata": {
        "colab": {
          "base_uri": "https://localhost:8080/"
        },
        "id": "6KCcrR38_oxA",
        "outputId": "8bd35604-77a2-4b79-c38d-090b722e4d64"
      },
      "execution_count": null,
      "outputs": [
        {
          "output_type": "stream",
          "name": "stderr",
          "text": [
            "[nltk_data] Downloading package stopwords to /root/nltk_data...\n",
            "[nltk_data]   Unzipping corpora/stopwords.zip.\n"
          ]
        },
        {
          "output_type": "execute_result",
          "data": {
            "text/plain": [
              "True"
            ]
          },
          "metadata": {},
          "execution_count": 15
        }
      ]
    },
    {
      "cell_type": "code",
      "source": [
        "sentences_clean=[re.sub(r'[^\\w\\s]','',sentence.lower()) for sentence in sentences]\n",
        "stop_words = stopwords.words('english')\n",
        "sentence_tokens=[[words for words in sentence.split(' ') if words not in stop_words] for sentence in sentences_clean]"
      ],
      "metadata": {
        "id": "bRYunhbP_Z6q"
      },
      "execution_count": null,
      "outputs": []
    },
    {
      "cell_type": "code",
      "source": [
        "w2v = Word2Vec(sentence_tokens, vector_size=1, min_count=1, epochs=1000)\n",
        "sentence_embeddings = [[w2v.wv[word][0] for word in words] for words in sentence_tokens]\n",
        "max_len = max([len(tokens) for tokens in sentence_tokens])\n",
        "sentence_embeddings = [np.pad(embedding, (0, max_len - len(embedding)), 'constant') for embedding in sentence_embeddings]\n"
      ],
      "metadata": {
        "id": "RmE1Gh02AtAE"
      },
      "execution_count": null,
      "outputs": []
    },
    {
      "cell_type": "code",
      "source": [
        "similarity_matrix = np.zeros([len(sentence_tokens), len(sentence_tokens)])\n",
        "for i,row_embedding in enumerate(sentence_embeddings):\n",
        "    for j,column_embedding in enumerate(sentence_embeddings):\n",
        "        similarity_matrix[i][j]=1-spatial.distance.cosine(row_embedding,column_embedding)"
      ],
      "metadata": {
        "id": "bxCAxxrKA3ei"
      },
      "execution_count": null,
      "outputs": []
    },
    {
      "cell_type": "code",
      "source": [
        "nx_graph = nx.from_numpy_array(similarity_matrix)\n",
        "scores = nx.pagerank(nx_graph)\n",
        "print(nx_graph)"
      ],
      "metadata": {
        "colab": {
          "base_uri": "https://localhost:8080/"
        },
        "id": "E3sHOxpOA_S8",
        "outputId": "5d8d8185-daaa-4848-a24f-5f87a135dfc7"
      },
      "execution_count": null,
      "outputs": [
        {
          "output_type": "stream",
          "name": "stdout",
          "text": [
            "Graph with 6 nodes and 21 edges\n"
          ]
        }
      ]
    },
    {
      "cell_type": "code",
      "source": [
        "top_sentence={sentence:scores[index] for index,sentence in enumerate(sentences)}\n",
        "top=dict(sorted(top_sentence.items(), key=lambda x: x[1], reverse=True)[:4])"
      ],
      "metadata": {
        "id": "9F1H0U_xBCbY"
      },
      "execution_count": null,
      "outputs": []
    },
    {
      "cell_type": "code",
      "source": [
        "for sent in sentences:\n",
        "    if sent in top.keys():\n",
        "        print(sent)"
      ],
      "metadata": {
        "colab": {
          "base_uri": "https://localhost:8080/"
        },
        "id": "jkMovZ9zBPds",
        "outputId": "1a7ea42e-e3c3-4107-96de-147aa1f86f9b"
      },
      "execution_count": null,
      "outputs": [
        {
          "output_type": "stream",
          "name": "stdout",
          "text": [
            "Santiago is a Shepherd who has a recurring dream which is supposedly prophetic.\n",
            "Inspired on learning this, he undertakes a journey to Egypt to discover the meaning of life and fulfill his destiny.\n",
            "During the course of his travels, he learns of his true purpose and meets many characters, including an “Alchemist”, that teach him valuable lessons about achieving his dreams.\n",
            "Santiago sets his sights on obtaining a certain kind of “treasure” for which he travels to Egypt.\n"
          ]
        }
      ]
    },
    {
      "cell_type": "code",
      "source": [
        "!pip install git+https://github.com/tagucci/pythonrouge.git"
      ],
      "metadata": {
        "colab": {
          "base_uri": "https://localhost:8080/"
        },
        "id": "MQnzRTMtoN6K",
        "outputId": "96366aa9-14e0-43b2-c6be-508658269f73"
      },
      "execution_count": 2,
      "outputs": [
        {
          "output_type": "stream",
          "name": "stdout",
          "text": [
            "Looking in indexes: https://pypi.org/simple, https://us-python.pkg.dev/colab-wheels/public/simple/\n",
            "Collecting git+https://github.com/tagucci/pythonrouge.git\n",
            "  Cloning https://github.com/tagucci/pythonrouge.git to /tmp/pip-req-build-3isl7d5q\n",
            "  Running command git clone --filter=blob:none --quiet https://github.com/tagucci/pythonrouge.git /tmp/pip-req-build-3isl7d5q\n",
            "  Resolved https://github.com/tagucci/pythonrouge.git to commit 0f1603dbc089ecb0fb40fdd3a28576e9f3d36769\n",
            "  Preparing metadata (setup.py) ... \u001b[?25l\u001b[?25hdone\n",
            "Building wheels for collected packages: pythonrouge\n",
            "  Building wheel for pythonrouge (setup.py) ... \u001b[?25l\u001b[?25hdone\n",
            "  Created wheel for pythonrouge: filename=pythonrouge-0.2-py3-none-any.whl size=285409 sha256=fa9a0ad6bc6ca17b969b5ddddf5e5216e3e51f665470839ae8ee1d54ca6d699a\n",
            "  Stored in directory: /tmp/pip-ephem-wheel-cache-lehtbx_3/wheels/c1/18/09/c2759ebb9b275e5c59db45dfa35a77dfdbdbde1a733e4427e1\n",
            "Successfully built pythonrouge\n",
            "Installing collected packages: pythonrouge\n",
            "Successfully installed pythonrouge-0.2\n"
          ]
        }
      ]
    },
    {
      "cell_type": "code",
      "source": [
        "!apt-get install -y cpanminus\n",
        "\n",
        "!cpanm --force XML::Parser"
      ],
      "metadata": {
        "colab": {
          "base_uri": "https://localhost:8080/"
        },
        "id": "ZCXKxcNUoN9q",
        "outputId": "9deda085-dc56-4ddf-da21-b50656b60e39"
      },
      "execution_count": 3,
      "outputs": [
        {
          "output_type": "stream",
          "name": "stdout",
          "text": [
            "Reading package lists... Done\n",
            "Building dependency tree       \n",
            "Reading state information... Done\n",
            "The following additional packages will be installed:\n",
            "  libalgorithm-c3-perl libany-uri-escape-perl libb-hooks-endofscope-perl\n",
            "  libb-hooks-op-check-perl libclass-c3-perl libclass-c3-xs-perl\n",
            "  libclass-method-modifiers-perl libclass-xsaccessor-perl libcpan-changes-perl\n",
            "  libcpan-distnameinfo-perl libcpan-meta-check-perl libdata-optlist-perl\n",
            "  libdata-perl-perl libdata-section-perl libdevel-callchecker-perl\n",
            "  libdynaloader-functions-perl libencode-locale-perl libexporter-tiny-perl\n",
            "  libfile-pushd-perl libfile-slurp-perl libgetopt-long-descriptive-perl\n",
            "  libhtml-parser-perl libhtml-tagset-perl libhttp-date-perl\n",
            "  libhttp-message-perl libidn11 libimport-into-perl libio-html-perl\n",
            "  libio-stringy-perl liblist-moreutils-perl liblocal-lib-perl\n",
            "  liblwp-mediatypes-perl libmodule-build-perl libmodule-cpanfile-perl\n",
            "  libmodule-implementation-perl libmodule-runtime-perl\n",
            "  libmodule-signature-perl libmoo-perl libmoox-handlesvia-perl\n",
            "  libmro-compat-perl libnamespace-autoclean-perl libnamespace-clean-perl\n",
            "  libnet-libidn-perl libpackage-stash-perl libpackage-stash-xs-perl\n",
            "  libparams-classify-perl libparams-util-perl libparams-validate-perl\n",
            "  libparse-pmfile-perl libpath-tiny-perl libpod-markdown-perl\n",
            "  libpod-readme-perl libreadonly-perl libref-util-perl libref-util-xs-perl\n",
            "  librole-tiny-perl libsoftware-license-perl libstrictures-perl\n",
            "  libstring-shellquote-perl libsub-exporter-perl\n",
            "  libsub-exporter-progressive-perl libsub-identify-perl libsub-install-perl\n",
            "  libsub-name-perl libsub-quote-perl libtext-template-perl libtry-tiny-perl\n",
            "  libtype-tiny-perl libtype-tiny-xs-perl libunicode-utf8-perl\n",
            "  liburi-escape-xs-perl liburi-perl libvariable-magic-perl\n",
            "Suggested packages:\n",
            "  libdata-dump-perl libscalar-number-perl libbareword-filehandles-perl\n",
            "  libindirect-perl libmultidimensional-perl libdevel-lexalias-perl\n",
            "  libdevel-stacktrace-perl libwww-perl\n",
            "The following NEW packages will be installed:\n",
            "  cpanminus libalgorithm-c3-perl libany-uri-escape-perl\n",
            "  libb-hooks-endofscope-perl libb-hooks-op-check-perl libclass-c3-perl\n",
            "  libclass-c3-xs-perl libclass-method-modifiers-perl libclass-xsaccessor-perl\n",
            "  libcpan-changes-perl libcpan-distnameinfo-perl libcpan-meta-check-perl\n",
            "  libdata-optlist-perl libdata-perl-perl libdata-section-perl\n",
            "  libdevel-callchecker-perl libdynaloader-functions-perl libencode-locale-perl\n",
            "  libexporter-tiny-perl libfile-pushd-perl libfile-slurp-perl\n",
            "  libgetopt-long-descriptive-perl libhtml-parser-perl libhtml-tagset-perl\n",
            "  libhttp-date-perl libhttp-message-perl libidn11 libimport-into-perl\n",
            "  libio-html-perl libio-stringy-perl liblist-moreutils-perl liblocal-lib-perl\n",
            "  liblwp-mediatypes-perl libmodule-build-perl libmodule-cpanfile-perl\n",
            "  libmodule-implementation-perl libmodule-runtime-perl\n",
            "  libmodule-signature-perl libmoo-perl libmoox-handlesvia-perl\n",
            "  libmro-compat-perl libnamespace-autoclean-perl libnamespace-clean-perl\n",
            "  libnet-libidn-perl libpackage-stash-perl libpackage-stash-xs-perl\n",
            "  libparams-classify-perl libparams-util-perl libparams-validate-perl\n",
            "  libparse-pmfile-perl libpath-tiny-perl libpod-markdown-perl\n",
            "  libpod-readme-perl libreadonly-perl libref-util-perl libref-util-xs-perl\n",
            "  librole-tiny-perl libsoftware-license-perl libstrictures-perl\n",
            "  libstring-shellquote-perl libsub-exporter-perl\n",
            "  libsub-exporter-progressive-perl libsub-identify-perl libsub-install-perl\n",
            "  libsub-name-perl libsub-quote-perl libtext-template-perl libtry-tiny-perl\n",
            "  libtype-tiny-perl libtype-tiny-xs-perl libunicode-utf8-perl\n",
            "  liburi-escape-xs-perl liburi-perl libvariable-magic-perl\n",
            "0 upgraded, 74 newly installed, 0 to remove and 24 not upgraded.\n",
            "Need to get 2,347 kB of archives.\n",
            "After this operation, 7,211 kB of additional disk space will be used.\n",
            "Get:1 http://archive.ubuntu.com/ubuntu focal/universe amd64 libcpan-distnameinfo-perl all 0.12-2 [8,152 B]\n",
            "Get:2 http://archive.ubuntu.com/ubuntu focal/universe amd64 libcpan-meta-check-perl all 0.014-1 [7,594 B]\n",
            "Get:3 http://archive.ubuntu.com/ubuntu focal/universe amd64 libfile-pushd-perl all 1.016-1 [12.0 kB]\n",
            "Get:4 http://archive.ubuntu.com/ubuntu focal/universe amd64 libmodule-build-perl all 0.423100-1 [200 kB]\n",
            "Get:5 http://archive.ubuntu.com/ubuntu focal/universe amd64 liblocal-lib-perl all 2.000024-1 [46.1 kB]\n",
            "Get:6 http://archive.ubuntu.com/ubuntu focal/universe amd64 libmodule-cpanfile-perl all 1.1004-1 [24.2 kB]\n",
            "Get:7 http://archive.ubuntu.com/ubuntu focal/universe amd64 libparse-pmfile-perl all 0.42-1 [14.6 kB]\n",
            "Get:8 http://archive.ubuntu.com/ubuntu focal/main amd64 libstring-shellquote-perl all 1.04-1 [12.0 kB]\n",
            "Get:9 http://archive.ubuntu.com/ubuntu focal/universe amd64 cpanminus all 1.7044-1 [57.4 kB]\n",
            "Get:10 http://archive.ubuntu.com/ubuntu focal/universe amd64 libalgorithm-c3-perl all 0.10-1 [11.3 kB]\n",
            "Get:11 http://archive.ubuntu.com/ubuntu focal/main amd64 liburi-perl all 1.76-2 [77.5 kB]\n",
            "Get:12 http://archive.ubuntu.com/ubuntu focal/universe amd64 liburi-escape-xs-perl amd64 0.14-1build4 [14.6 kB]\n",
            "Get:13 http://archive.ubuntu.com/ubuntu focal/universe amd64 libany-uri-escape-perl all 0.01-3 [4,638 B]\n",
            "Get:14 http://archive.ubuntu.com/ubuntu focal/main amd64 libb-hooks-op-check-perl amd64 0.22-1build2 [10.2 kB]\n",
            "Get:15 http://archive.ubuntu.com/ubuntu focal/main amd64 libdynaloader-functions-perl all 0.003-1 [11.9 kB]\n",
            "Get:16 http://archive.ubuntu.com/ubuntu focal/main amd64 libdevel-callchecker-perl amd64 0.008-1ubuntu1 [14.5 kB]\n",
            "Get:17 http://archive.ubuntu.com/ubuntu focal/main amd64 libparams-classify-perl amd64 0.015-1build2 [21.1 kB]\n",
            "Get:18 http://archive.ubuntu.com/ubuntu focal/main amd64 libmodule-runtime-perl all 0.016-1 [16.2 kB]\n",
            "Get:19 http://archive.ubuntu.com/ubuntu focal/main amd64 libtry-tiny-perl all 0.30-1 [20.5 kB]\n",
            "Get:20 http://archive.ubuntu.com/ubuntu focal/main amd64 libmodule-implementation-perl all 0.09-1 [12.2 kB]\n",
            "Get:21 http://archive.ubuntu.com/ubuntu focal/main amd64 libsub-exporter-progressive-perl all 0.001013-1 [6,784 B]\n",
            "Get:22 http://archive.ubuntu.com/ubuntu focal/main amd64 libvariable-magic-perl amd64 0.62-1build2 [34.4 kB]\n",
            "Get:23 http://archive.ubuntu.com/ubuntu focal/main amd64 libb-hooks-endofscope-perl all 0.24-1 [16.8 kB]\n",
            "Get:24 http://archive.ubuntu.com/ubuntu focal/universe amd64 libclass-c3-perl all 0.34-1 [18.9 kB]\n",
            "Get:25 http://archive.ubuntu.com/ubuntu focal/universe amd64 libclass-c3-xs-perl amd64 0.14-1build5 [15.5 kB]\n",
            "Get:26 http://archive.ubuntu.com/ubuntu focal/main amd64 libclass-method-modifiers-perl all 2.13-1 [16.2 kB]\n",
            "Get:27 http://archive.ubuntu.com/ubuntu focal/main amd64 libclass-xsaccessor-perl amd64 1.19-3build3 [33.6 kB]\n",
            "Get:28 http://archive.ubuntu.com/ubuntu focal/universe amd64 libcpan-changes-perl all 0.400002-1 [32.0 kB]\n",
            "Get:29 http://archive.ubuntu.com/ubuntu focal/main amd64 libparams-util-perl amd64 1.07-3build5 [19.7 kB]\n",
            "Get:30 http://archive.ubuntu.com/ubuntu focal/main amd64 libsub-install-perl all 0.928-1 [10.5 kB]\n",
            "Get:31 http://archive.ubuntu.com/ubuntu focal/main amd64 libdata-optlist-perl all 0.110-1 [9,956 B]\n",
            "Get:32 http://archive.ubuntu.com/ubuntu focal/main amd64 libexporter-tiny-perl all 1.002001-1 [35.5 kB]\n",
            "Get:33 http://archive.ubuntu.com/ubuntu focal/main amd64 liblist-moreutils-perl amd64 0.416-1build5 [55.5 kB]\n",
            "Get:34 http://archive.ubuntu.com/ubuntu focal/main amd64 librole-tiny-perl all 2.001004-1 [16.5 kB]\n",
            "Get:35 http://archive.ubuntu.com/ubuntu focal/main amd64 libstrictures-perl all 2.000006-1 [16.3 kB]\n",
            "Get:36 http://archive.ubuntu.com/ubuntu focal/universe amd64 libdata-perl-perl all 0.002011-1 [40.3 kB]\n",
            "Get:37 http://archive.ubuntu.com/ubuntu focal/universe amd64 libmro-compat-perl all 0.13-1 [11.2 kB]\n",
            "Get:38 http://archive.ubuntu.com/ubuntu focal/main amd64 libsub-exporter-perl all 0.987-1 [44.9 kB]\n",
            "Get:39 http://archive.ubuntu.com/ubuntu focal/universe amd64 libdata-section-perl all 0.200007-1 [11.8 kB]\n",
            "Get:40 http://archive.ubuntu.com/ubuntu focal/main amd64 libencode-locale-perl all 1.05-1 [12.3 kB]\n",
            "Get:41 http://archive.ubuntu.com/ubuntu focal/universe amd64 libfile-slurp-perl all 9999.29-1 [21.1 kB]\n",
            "Get:42 http://archive.ubuntu.com/ubuntu focal/main amd64 libio-stringy-perl all 2.111-3 [55.8 kB]\n",
            "Get:43 http://archive.ubuntu.com/ubuntu focal/main amd64 libparams-validate-perl amd64 1.29-3 [52.7 kB]\n",
            "Get:44 http://archive.ubuntu.com/ubuntu focal/main amd64 libgetopt-long-descriptive-perl all 0.104-1 [24.6 kB]\n",
            "Get:45 http://archive.ubuntu.com/ubuntu focal/main amd64 libhtml-tagset-perl all 3.20-4 [12.5 kB]\n",
            "Get:46 http://archive.ubuntu.com/ubuntu focal/main amd64 libhtml-parser-perl amd64 3.72-5 [86.3 kB]\n",
            "Get:47 http://archive.ubuntu.com/ubuntu focal/main amd64 libhttp-date-perl all 6.05-1 [9,920 B]\n",
            "Get:48 http://archive.ubuntu.com/ubuntu focal/main amd64 libio-html-perl all 1.001-1 [14.9 kB]\n",
            "Get:49 http://archive.ubuntu.com/ubuntu focal/main amd64 liblwp-mediatypes-perl all 6.04-1 [19.5 kB]\n",
            "Get:50 http://archive.ubuntu.com/ubuntu focal/main amd64 libhttp-message-perl all 6.22-1 [76.1 kB]\n",
            "Get:51 http://archive.ubuntu.com/ubuntu focal/main amd64 libidn11 amd64 1.33-2.2ubuntu2 [46.2 kB]\n",
            "Get:52 http://archive.ubuntu.com/ubuntu focal/main amd64 libimport-into-perl all 1.002005-1 [11.0 kB]\n",
            "Get:53 http://archive.ubuntu.com/ubuntu focal/universe amd64 libmodule-signature-perl all 0.83-1 [21.1 kB]\n",
            "Get:54 http://archive.ubuntu.com/ubuntu focal/main amd64 libsub-quote-perl all 2.006006-1 [19.5 kB]\n",
            "Get:55 http://archive.ubuntu.com/ubuntu focal/main amd64 libmoo-perl all 2.003006-1 [46.3 kB]\n",
            "Get:56 http://archive.ubuntu.com/ubuntu focal/universe amd64 libmoox-handlesvia-perl all 0.001008-4 [17.7 kB]\n",
            "Get:57 http://archive.ubuntu.com/ubuntu focal/main amd64 libpackage-stash-perl all 0.38-1 [19.1 kB]\n",
            "Get:58 http://archive.ubuntu.com/ubuntu focal/main amd64 libsub-identify-perl amd64 0.14-1build2 [10.7 kB]\n",
            "Get:59 http://archive.ubuntu.com/ubuntu focal/main amd64 libsub-name-perl amd64 0.26-1 [11.5 kB]\n",
            "Get:60 http://archive.ubuntu.com/ubuntu focal/main amd64 libnamespace-clean-perl all 0.27-1 [13.6 kB]\n",
            "Get:61 http://archive.ubuntu.com/ubuntu focal/universe amd64 libnamespace-autoclean-perl all 0.29-1 [12.5 kB]\n",
            "Get:62 http://archive.ubuntu.com/ubuntu focal/main amd64 libnet-libidn-perl amd64 0.12.ds-3build2 [17.3 kB]\n",
            "Get:63 http://archive.ubuntu.com/ubuntu focal/main amd64 libpackage-stash-xs-perl amd64 0.29-1build1 [18.4 kB]\n",
            "Get:64 http://archive.ubuntu.com/ubuntu focal/main amd64 libpath-tiny-perl all 0.108-1 [42.6 kB]\n",
            "Get:65 http://archive.ubuntu.com/ubuntu focal/universe amd64 libpod-markdown-perl all 3.200000-1 [29.0 kB]\n",
            "Get:66 http://archive.ubuntu.com/ubuntu focal/main amd64 libtype-tiny-perl all 1.008001-2 [304 kB]\n",
            "Get:67 http://archive.ubuntu.com/ubuntu focal/universe amd64 libpod-readme-perl all 1.2.3-1 [33.3 kB]\n",
            "Get:68 http://archive.ubuntu.com/ubuntu focal/main amd64 libreadonly-perl all 2.050-2 [19.9 kB]\n",
            "Get:69 http://archive.ubuntu.com/ubuntu focal/main amd64 libref-util-perl all 0.204-1 [15.0 kB]\n",
            "Get:70 http://archive.ubuntu.com/ubuntu focal/main amd64 libref-util-xs-perl amd64 0.117-1build2 [12.0 kB]\n",
            "Get:71 http://archive.ubuntu.com/ubuntu focal/universe amd64 libtext-template-perl all 1.58-1 [48.5 kB]\n",
            "Get:72 http://archive.ubuntu.com/ubuntu focal/universe amd64 libsoftware-license-perl all 0.103014-2 [108 kB]\n",
            "Get:73 http://archive.ubuntu.com/ubuntu focal/main amd64 libtype-tiny-xs-perl amd64 0.016-1 [22.9 kB]\n",
            "Get:74 http://archive.ubuntu.com/ubuntu focal/main amd64 libunicode-utf8-perl amd64 0.62-1build1 [18.1 kB]\n",
            "Fetched 2,347 kB in 10s (240 kB/s)\n",
            "Extracting templates from packages: 100%\n",
            "Selecting previously unselected package libcpan-distnameinfo-perl.\n",
            "(Reading database ... 122352 files and directories currently installed.)\n",
            "Preparing to unpack .../00-libcpan-distnameinfo-perl_0.12-2_all.deb ...\n",
            "Unpacking libcpan-distnameinfo-perl (0.12-2) ...\n",
            "Selecting previously unselected package libcpan-meta-check-perl.\n",
            "Preparing to unpack .../01-libcpan-meta-check-perl_0.014-1_all.deb ...\n",
            "Unpacking libcpan-meta-check-perl (0.014-1) ...\n",
            "Selecting previously unselected package libfile-pushd-perl.\n",
            "Preparing to unpack .../02-libfile-pushd-perl_1.016-1_all.deb ...\n",
            "Unpacking libfile-pushd-perl (1.016-1) ...\n",
            "Selecting previously unselected package libmodule-build-perl.\n",
            "Preparing to unpack .../03-libmodule-build-perl_0.423100-1_all.deb ...\n",
            "Adding 'diversion of /usr/bin/config_data to /usr/bin/config_data.diverted by libmodule-build-perl'\n",
            "Adding 'diversion of /usr/share/man/man1/config_data.1.gz to /usr/share/man/man1/config_data.diverted.1.gz by libmodule-build-perl'\n",
            "Unpacking libmodule-build-perl (0.423100-1) ...\n",
            "Selecting previously unselected package liblocal-lib-perl.\n",
            "Preparing to unpack .../04-liblocal-lib-perl_2.000024-1_all.deb ...\n",
            "Unpacking liblocal-lib-perl (2.000024-1) ...\n",
            "Selecting previously unselected package libmodule-cpanfile-perl.\n",
            "Preparing to unpack .../05-libmodule-cpanfile-perl_1.1004-1_all.deb ...\n",
            "Unpacking libmodule-cpanfile-perl (1.1004-1) ...\n",
            "Selecting previously unselected package libparse-pmfile-perl.\n",
            "Preparing to unpack .../06-libparse-pmfile-perl_0.42-1_all.deb ...\n",
            "Unpacking libparse-pmfile-perl (0.42-1) ...\n",
            "Selecting previously unselected package libstring-shellquote-perl.\n",
            "Preparing to unpack .../07-libstring-shellquote-perl_1.04-1_all.deb ...\n",
            "Unpacking libstring-shellquote-perl (1.04-1) ...\n",
            "Selecting previously unselected package cpanminus.\n",
            "Preparing to unpack .../08-cpanminus_1.7044-1_all.deb ...\n",
            "Unpacking cpanminus (1.7044-1) ...\n",
            "Selecting previously unselected package libalgorithm-c3-perl.\n",
            "Preparing to unpack .../09-libalgorithm-c3-perl_0.10-1_all.deb ...\n",
            "Unpacking libalgorithm-c3-perl (0.10-1) ...\n",
            "Selecting previously unselected package liburi-perl.\n",
            "Preparing to unpack .../10-liburi-perl_1.76-2_all.deb ...\n",
            "Unpacking liburi-perl (1.76-2) ...\n",
            "Selecting previously unselected package liburi-escape-xs-perl.\n",
            "Preparing to unpack .../11-liburi-escape-xs-perl_0.14-1build4_amd64.deb ...\n",
            "Unpacking liburi-escape-xs-perl (0.14-1build4) ...\n",
            "Selecting previously unselected package libany-uri-escape-perl.\n",
            "Preparing to unpack .../12-libany-uri-escape-perl_0.01-3_all.deb ...\n",
            "Unpacking libany-uri-escape-perl (0.01-3) ...\n",
            "Selecting previously unselected package libb-hooks-op-check-perl.\n",
            "Preparing to unpack .../13-libb-hooks-op-check-perl_0.22-1build2_amd64.deb ...\n",
            "Unpacking libb-hooks-op-check-perl (0.22-1build2) ...\n",
            "Selecting previously unselected package libdynaloader-functions-perl.\n",
            "Preparing to unpack .../14-libdynaloader-functions-perl_0.003-1_all.deb ...\n",
            "Unpacking libdynaloader-functions-perl (0.003-1) ...\n",
            "Selecting previously unselected package libdevel-callchecker-perl.\n",
            "Preparing to unpack .../15-libdevel-callchecker-perl_0.008-1ubuntu1_amd64.deb ...\n",
            "Unpacking libdevel-callchecker-perl (0.008-1ubuntu1) ...\n",
            "Selecting previously unselected package libparams-classify-perl.\n",
            "Preparing to unpack .../16-libparams-classify-perl_0.015-1build2_amd64.deb ...\n",
            "Unpacking libparams-classify-perl (0.015-1build2) ...\n",
            "Selecting previously unselected package libmodule-runtime-perl.\n",
            "Preparing to unpack .../17-libmodule-runtime-perl_0.016-1_all.deb ...\n",
            "Unpacking libmodule-runtime-perl (0.016-1) ...\n",
            "Selecting previously unselected package libtry-tiny-perl.\n",
            "Preparing to unpack .../18-libtry-tiny-perl_0.30-1_all.deb ...\n",
            "Unpacking libtry-tiny-perl (0.30-1) ...\n",
            "Selecting previously unselected package libmodule-implementation-perl.\n",
            "Preparing to unpack .../19-libmodule-implementation-perl_0.09-1_all.deb ...\n",
            "Unpacking libmodule-implementation-perl (0.09-1) ...\n",
            "Selecting previously unselected package libsub-exporter-progressive-perl.\n",
            "Preparing to unpack .../20-libsub-exporter-progressive-perl_0.001013-1_all.deb ...\n",
            "Unpacking libsub-exporter-progressive-perl (0.001013-1) ...\n",
            "Selecting previously unselected package libvariable-magic-perl.\n",
            "Preparing to unpack .../21-libvariable-magic-perl_0.62-1build2_amd64.deb ...\n",
            "Unpacking libvariable-magic-perl (0.62-1build2) ...\n",
            "Selecting previously unselected package libb-hooks-endofscope-perl.\n",
            "Preparing to unpack .../22-libb-hooks-endofscope-perl_0.24-1_all.deb ...\n",
            "Unpacking libb-hooks-endofscope-perl (0.24-1) ...\n",
            "Selecting previously unselected package libclass-c3-perl.\n",
            "Preparing to unpack .../23-libclass-c3-perl_0.34-1_all.deb ...\n",
            "Unpacking libclass-c3-perl (0.34-1) ...\n",
            "Selecting previously unselected package libclass-c3-xs-perl.\n",
            "Preparing to unpack .../24-libclass-c3-xs-perl_0.14-1build5_amd64.deb ...\n",
            "Unpacking libclass-c3-xs-perl (0.14-1build5) ...\n",
            "Selecting previously unselected package libclass-method-modifiers-perl.\n",
            "Preparing to unpack .../25-libclass-method-modifiers-perl_2.13-1_all.deb ...\n",
            "Unpacking libclass-method-modifiers-perl (2.13-1) ...\n",
            "Selecting previously unselected package libclass-xsaccessor-perl.\n",
            "Preparing to unpack .../26-libclass-xsaccessor-perl_1.19-3build3_amd64.deb ...\n",
            "Unpacking libclass-xsaccessor-perl (1.19-3build3) ...\n",
            "Selecting previously unselected package libcpan-changes-perl.\n",
            "Preparing to unpack .../27-libcpan-changes-perl_0.400002-1_all.deb ...\n",
            "Unpacking libcpan-changes-perl (0.400002-1) ...\n",
            "Selecting previously unselected package libparams-util-perl.\n",
            "Preparing to unpack .../28-libparams-util-perl_1.07-3build5_amd64.deb ...\n",
            "Unpacking libparams-util-perl (1.07-3build5) ...\n",
            "Selecting previously unselected package libsub-install-perl.\n",
            "Preparing to unpack .../29-libsub-install-perl_0.928-1_all.deb ...\n",
            "Unpacking libsub-install-perl (0.928-1) ...\n",
            "Selecting previously unselected package libdata-optlist-perl.\n",
            "Preparing to unpack .../30-libdata-optlist-perl_0.110-1_all.deb ...\n",
            "Unpacking libdata-optlist-perl (0.110-1) ...\n",
            "Selecting previously unselected package libexporter-tiny-perl.\n",
            "Preparing to unpack .../31-libexporter-tiny-perl_1.002001-1_all.deb ...\n",
            "Unpacking libexporter-tiny-perl (1.002001-1) ...\n",
            "Selecting previously unselected package liblist-moreutils-perl.\n",
            "Preparing to unpack .../32-liblist-moreutils-perl_0.416-1build5_amd64.deb ...\n",
            "Unpacking liblist-moreutils-perl (0.416-1build5) ...\n",
            "Selecting previously unselected package librole-tiny-perl.\n",
            "Preparing to unpack .../33-librole-tiny-perl_2.001004-1_all.deb ...\n",
            "Unpacking librole-tiny-perl (2.001004-1) ...\n",
            "Selecting previously unselected package libstrictures-perl.\n",
            "Preparing to unpack .../34-libstrictures-perl_2.000006-1_all.deb ...\n",
            "Unpacking libstrictures-perl (2.000006-1) ...\n",
            "Selecting previously unselected package libdata-perl-perl.\n",
            "Preparing to unpack .../35-libdata-perl-perl_0.002011-1_all.deb ...\n",
            "Unpacking libdata-perl-perl (0.002011-1) ...\n",
            "Selecting previously unselected package libmro-compat-perl.\n",
            "Preparing to unpack .../36-libmro-compat-perl_0.13-1_all.deb ...\n",
            "Unpacking libmro-compat-perl (0.13-1) ...\n",
            "Selecting previously unselected package libsub-exporter-perl.\n",
            "Preparing to unpack .../37-libsub-exporter-perl_0.987-1_all.deb ...\n",
            "Unpacking libsub-exporter-perl (0.987-1) ...\n",
            "Selecting previously unselected package libdata-section-perl.\n",
            "Preparing to unpack .../38-libdata-section-perl_0.200007-1_all.deb ...\n",
            "Unpacking libdata-section-perl (0.200007-1) ...\n",
            "Selecting previously unselected package libencode-locale-perl.\n",
            "Preparing to unpack .../39-libencode-locale-perl_1.05-1_all.deb ...\n",
            "Unpacking libencode-locale-perl (1.05-1) ...\n",
            "Selecting previously unselected package libfile-slurp-perl.\n",
            "Preparing to unpack .../40-libfile-slurp-perl_9999.29-1_all.deb ...\n",
            "Unpacking libfile-slurp-perl (9999.29-1) ...\n",
            "Selecting previously unselected package libio-stringy-perl.\n",
            "Preparing to unpack .../41-libio-stringy-perl_2.111-3_all.deb ...\n",
            "Unpacking libio-stringy-perl (2.111-3) ...\n",
            "Selecting previously unselected package libparams-validate-perl.\n",
            "Preparing to unpack .../42-libparams-validate-perl_1.29-3_amd64.deb ...\n",
            "Unpacking libparams-validate-perl (1.29-3) ...\n",
            "Selecting previously unselected package libgetopt-long-descriptive-perl.\n",
            "Preparing to unpack .../43-libgetopt-long-descriptive-perl_0.104-1_all.deb ...\n",
            "Unpacking libgetopt-long-descriptive-perl (0.104-1) ...\n",
            "Selecting previously unselected package libhtml-tagset-perl.\n",
            "Preparing to unpack .../44-libhtml-tagset-perl_3.20-4_all.deb ...\n",
            "Unpacking libhtml-tagset-perl (3.20-4) ...\n",
            "Selecting previously unselected package libhtml-parser-perl.\n",
            "Preparing to unpack .../45-libhtml-parser-perl_3.72-5_amd64.deb ...\n",
            "Unpacking libhtml-parser-perl (3.72-5) ...\n",
            "Selecting previously unselected package libhttp-date-perl.\n",
            "Preparing to unpack .../46-libhttp-date-perl_6.05-1_all.deb ...\n",
            "Unpacking libhttp-date-perl (6.05-1) ...\n",
            "Selecting previously unselected package libio-html-perl.\n",
            "Preparing to unpack .../47-libio-html-perl_1.001-1_all.deb ...\n",
            "Unpacking libio-html-perl (1.001-1) ...\n",
            "Selecting previously unselected package liblwp-mediatypes-perl.\n",
            "Preparing to unpack .../48-liblwp-mediatypes-perl_6.04-1_all.deb ...\n",
            "Unpacking liblwp-mediatypes-perl (6.04-1) ...\n",
            "Selecting previously unselected package libhttp-message-perl.\n",
            "Preparing to unpack .../49-libhttp-message-perl_6.22-1_all.deb ...\n",
            "Unpacking libhttp-message-perl (6.22-1) ...\n",
            "Selecting previously unselected package libidn11:amd64.\n",
            "Preparing to unpack .../50-libidn11_1.33-2.2ubuntu2_amd64.deb ...\n",
            "Unpacking libidn11:amd64 (1.33-2.2ubuntu2) ...\n",
            "Selecting previously unselected package libimport-into-perl.\n",
            "Preparing to unpack .../51-libimport-into-perl_1.002005-1_all.deb ...\n",
            "Unpacking libimport-into-perl (1.002005-1) ...\n",
            "Selecting previously unselected package libmodule-signature-perl.\n",
            "Preparing to unpack .../52-libmodule-signature-perl_0.83-1_all.deb ...\n",
            "Unpacking libmodule-signature-perl (0.83-1) ...\n",
            "Selecting previously unselected package libsub-quote-perl.\n",
            "Preparing to unpack .../53-libsub-quote-perl_2.006006-1_all.deb ...\n",
            "Unpacking libsub-quote-perl (2.006006-1) ...\n",
            "Selecting previously unselected package libmoo-perl.\n",
            "Preparing to unpack .../54-libmoo-perl_2.003006-1_all.deb ...\n",
            "Unpacking libmoo-perl (2.003006-1) ...\n",
            "Selecting previously unselected package libmoox-handlesvia-perl.\n",
            "Preparing to unpack .../55-libmoox-handlesvia-perl_0.001008-4_all.deb ...\n",
            "Unpacking libmoox-handlesvia-perl (0.001008-4) ...\n",
            "Selecting previously unselected package libpackage-stash-perl.\n",
            "Preparing to unpack .../56-libpackage-stash-perl_0.38-1_all.deb ...\n",
            "Unpacking libpackage-stash-perl (0.38-1) ...\n",
            "Selecting previously unselected package libsub-identify-perl.\n",
            "Preparing to unpack .../57-libsub-identify-perl_0.14-1build2_amd64.deb ...\n",
            "Unpacking libsub-identify-perl (0.14-1build2) ...\n",
            "Selecting previously unselected package libsub-name-perl.\n",
            "Preparing to unpack .../58-libsub-name-perl_0.26-1_amd64.deb ...\n",
            "Unpacking libsub-name-perl (0.26-1) ...\n",
            "Selecting previously unselected package libnamespace-clean-perl.\n",
            "Preparing to unpack .../59-libnamespace-clean-perl_0.27-1_all.deb ...\n",
            "Unpacking libnamespace-clean-perl (0.27-1) ...\n",
            "Selecting previously unselected package libnamespace-autoclean-perl.\n",
            "Preparing to unpack .../60-libnamespace-autoclean-perl_0.29-1_all.deb ...\n",
            "Unpacking libnamespace-autoclean-perl (0.29-1) ...\n",
            "Selecting previously unselected package libnet-libidn-perl.\n",
            "Preparing to unpack .../61-libnet-libidn-perl_0.12.ds-3build2_amd64.deb ...\n",
            "Unpacking libnet-libidn-perl (0.12.ds-3build2) ...\n",
            "Selecting previously unselected package libpackage-stash-xs-perl.\n",
            "Preparing to unpack .../62-libpackage-stash-xs-perl_0.29-1build1_amd64.deb ...\n",
            "Unpacking libpackage-stash-xs-perl (0.29-1build1) ...\n",
            "Selecting previously unselected package libpath-tiny-perl.\n",
            "Preparing to unpack .../63-libpath-tiny-perl_0.108-1_all.deb ...\n",
            "Unpacking libpath-tiny-perl (0.108-1) ...\n",
            "Selecting previously unselected package libpod-markdown-perl.\n",
            "Preparing to unpack .../64-libpod-markdown-perl_3.200000-1_all.deb ...\n",
            "Unpacking libpod-markdown-perl (3.200000-1) ...\n",
            "Selecting previously unselected package libtype-tiny-perl.\n",
            "Preparing to unpack .../65-libtype-tiny-perl_1.008001-2_all.deb ...\n",
            "Unpacking libtype-tiny-perl (1.008001-2) ...\n",
            "Selecting previously unselected package libpod-readme-perl.\n",
            "Preparing to unpack .../66-libpod-readme-perl_1.2.3-1_all.deb ...\n",
            "Unpacking libpod-readme-perl (1.2.3-1) ...\n",
            "Selecting previously unselected package libreadonly-perl.\n",
            "Preparing to unpack .../67-libreadonly-perl_2.050-2_all.deb ...\n",
            "Unpacking libreadonly-perl (2.050-2) ...\n",
            "Selecting previously unselected package libref-util-perl.\n",
            "Preparing to unpack .../68-libref-util-perl_0.204-1_all.deb ...\n",
            "Unpacking libref-util-perl (0.204-1) ...\n",
            "Selecting previously unselected package libref-util-xs-perl.\n",
            "Preparing to unpack .../69-libref-util-xs-perl_0.117-1build2_amd64.deb ...\n",
            "Unpacking libref-util-xs-perl (0.117-1build2) ...\n",
            "Selecting previously unselected package libtext-template-perl.\n",
            "Preparing to unpack .../70-libtext-template-perl_1.58-1_all.deb ...\n",
            "Unpacking libtext-template-perl (1.58-1) ...\n",
            "Selecting previously unselected package libsoftware-license-perl.\n",
            "Preparing to unpack .../71-libsoftware-license-perl_0.103014-2_all.deb ...\n",
            "Unpacking libsoftware-license-perl (0.103014-2) ...\n",
            "Selecting previously unselected package libtype-tiny-xs-perl.\n",
            "Preparing to unpack .../72-libtype-tiny-xs-perl_0.016-1_amd64.deb ...\n",
            "Unpacking libtype-tiny-xs-perl (0.016-1) ...\n",
            "Selecting previously unselected package libunicode-utf8-perl.\n",
            "Preparing to unpack .../73-libunicode-utf8-perl_0.62-1build1_amd64.deb ...\n",
            "Unpacking libunicode-utf8-perl (0.62-1build1) ...\n",
            "Setting up libhttp-date-perl (6.05-1) ...\n",
            "Setting up libfile-slurp-perl (9999.29-1) ...\n",
            "Setting up libmodule-cpanfile-perl (1.1004-1) ...\n",
            "Setting up libunicode-utf8-perl (0.62-1build1) ...\n",
            "Setting up libdynaloader-functions-perl (0.003-1) ...\n",
            "Setting up libclass-method-modifiers-perl (2.13-1) ...\n",
            "Setting up libref-util-xs-perl (0.117-1build2) ...\n",
            "Setting up libfile-pushd-perl (1.016-1) ...\n",
            "Setting up libsub-identify-perl (0.14-1build2) ...\n",
            "Setting up libio-stringy-perl (2.111-3) ...\n",
            "Setting up libhtml-tagset-perl (3.20-4) ...\n",
            "Setting up liblwp-mediatypes-perl (6.04-1) ...\n",
            "Setting up libtry-tiny-perl (0.30-1) ...\n",
            "Setting up libencode-locale-perl (1.05-1) ...\n",
            "Setting up libcpan-changes-perl (0.400002-1) ...\n",
            "Setting up libstring-shellquote-perl (1.04-1) ...\n",
            "Setting up libclass-c3-xs-perl (0.14-1build5) ...\n",
            "Setting up libsub-install-perl (0.928-1) ...\n",
            "Setting up libmodule-build-perl (0.423100-1) ...\n",
            "Setting up libreadonly-perl (2.050-2) ...\n",
            "Setting up libpackage-stash-xs-perl (0.29-1build1) ...\n",
            "Setting up libalgorithm-c3-perl (0.10-1) ...\n",
            "Setting up libmodule-signature-perl (0.83-1) ...\n",
            "Setting up libref-util-perl (0.204-1) ...\n",
            "Setting up libidn11:amd64 (1.33-2.2ubuntu2) ...\n",
            "Setting up libnet-libidn-perl (0.12.ds-3build2) ...\n",
            "Setting up libvariable-magic-perl (0.62-1build2) ...\n",
            "Setting up libio-html-perl (1.001-1) ...\n",
            "Setting up libtext-template-perl (1.58-1) ...\n",
            "Setting up libb-hooks-op-check-perl (0.22-1build2) ...\n",
            "Setting up libparams-util-perl (1.07-3build5) ...\n",
            "Setting up libcpan-distnameinfo-perl (0.12-2) ...\n",
            "Setting up libsub-exporter-progressive-perl (0.001013-1) ...\n",
            "Setting up libsub-name-perl (0.26-1) ...\n",
            "Setting up libtype-tiny-xs-perl (0.016-1) ...\n",
            "Setting up liburi-escape-xs-perl (0.14-1build4) ...\n",
            "Setting up libcpan-meta-check-perl (0.014-1) ...\n",
            "Setting up libparse-pmfile-perl (0.42-1) ...\n",
            "Setting up libpath-tiny-perl (0.108-1) ...\n",
            "Setting up librole-tiny-perl (2.001004-1) ...\n",
            "Setting up libstrictures-perl (2.000006-1) ...\n",
            "Setting up libsub-quote-perl (2.006006-1) ...\n",
            "Setting up libclass-xsaccessor-perl (1.19-3build3) ...\n",
            "Setting up libexporter-tiny-perl (1.002001-1) ...\n",
            "Setting up liburi-perl (1.76-2) ...\n",
            "Setting up libhttp-message-perl (6.22-1) ...\n",
            "Setting up liblist-moreutils-perl (0.416-1build5) ...\n",
            "Setting up libtype-tiny-perl (1.008001-2) ...\n",
            "Setting up libclass-c3-perl (0.34-1) ...\n",
            "Setting up libdevel-callchecker-perl (0.008-1ubuntu1) ...\n",
            "Setting up libany-uri-escape-perl (0.01-3) ...\n",
            "Setting up liblocal-lib-perl (2.000024-1) ...\n",
            "Setting up libdata-optlist-perl (0.110-1) ...\n",
            "Setting up libhtml-parser-perl (3.72-5) ...\n",
            "Setting up libmro-compat-perl (0.13-1) ...\n",
            "Setting up libsub-exporter-perl (0.987-1) ...\n",
            "Setting up libpod-markdown-perl (3.200000-1) ...\n",
            "Setting up libparams-classify-perl (0.015-1build2) ...\n",
            "Setting up cpanminus (1.7044-1) ...\n",
            "Setting up libmodule-runtime-perl (0.016-1) ...\n",
            "Setting up libdata-section-perl (0.200007-1) ...\n",
            "Setting up libmodule-implementation-perl (0.09-1) ...\n",
            "Setting up libpackage-stash-perl (0.38-1) ...\n",
            "Setting up libimport-into-perl (1.002005-1) ...\n",
            "Setting up libmoo-perl (2.003006-1) ...\n",
            "Setting up libdata-perl-perl (0.002011-1) ...\n",
            "Setting up libsoftware-license-perl (0.103014-2) ...\n",
            "Setting up libparams-validate-perl (1.29-3) ...\n",
            "Setting up libb-hooks-endofscope-perl (0.24-1) ...\n",
            "Setting up libmoox-handlesvia-perl (0.001008-4) ...\n",
            "Setting up libnamespace-clean-perl (0.27-1) ...\n",
            "Setting up libgetopt-long-descriptive-perl (0.104-1) ...\n",
            "Setting up libnamespace-autoclean-perl (0.29-1) ...\n",
            "Setting up libpod-readme-perl (1.2.3-1) ...\n",
            "Processing triggers for man-db (2.9.1-1) ...\n",
            "Processing triggers for libc-bin (2.31-0ubuntu9.9) ...\n",
            "--> Working on XML::Parser\n",
            "Fetching http://www.cpan.org/authors/id/T/TO/TODDR/XML-Parser-2.46.tar.gz ... OK\n",
            "Configuring XML-Parser-2.46 ... OK\n",
            "==> Found dependencies: LWP::UserAgent\n",
            "--> Working on LWP::UserAgent\n",
            "Fetching http://www.cpan.org/authors/id/O/OA/OALDERS/libwww-perl-6.68.tar.gz ... OK\n",
            "Configuring libwww-perl-6.68 ... OK\n",
            "==> Found dependencies: Net::HTTP, File::Listing, WWW::RobotRules, HTTP::Daemon, Test::RequiresInternet, HTTP::Cookies, Test::Fatal, HTTP::Negotiate, Test::Needs\n",
            "--> Working on Net::HTTP\n",
            "Fetching http://www.cpan.org/authors/id/O/OA/OALDERS/Net-HTTP-6.22.tar.gz ... OK\n",
            "Configuring Net-HTTP-6.22 ... OK\n",
            "Building and testing Net-HTTP-6.22 ... OK\n",
            "Successfully installed Net-HTTP-6.22\n",
            "--> Working on File::Listing\n",
            "Fetching http://www.cpan.org/authors/id/P/PL/PLICEASE/File-Listing-6.15.tar.gz ... OK\n",
            "Configuring File-Listing-6.15 ... OK\n",
            "Building and testing File-Listing-6.15 ... OK\n",
            "Successfully installed File-Listing-6.15\n",
            "--> Working on WWW::RobotRules\n",
            "Fetching http://www.cpan.org/authors/id/G/GA/GAAS/WWW-RobotRules-6.02.tar.gz ... OK\n",
            "Configuring WWW-RobotRules-6.02 ... OK\n",
            "Building and testing WWW-RobotRules-6.02 ... OK\n",
            "Successfully installed WWW-RobotRules-6.02\n",
            "--> Working on HTTP::Daemon\n",
            "Fetching http://www.cpan.org/authors/id/O/OA/OALDERS/HTTP-Daemon-6.16.tar.gz ... OK\n",
            "==> Found dependencies: Module::Build::Tiny\n",
            "--> Working on Module::Build::Tiny\n",
            "Fetching http://www.cpan.org/authors/id/L/LE/LEONT/Module-Build-Tiny-0.043.tar.gz ... OK\n",
            "==> Found dependencies: ExtUtils::Config, ExtUtils::InstallPaths, ExtUtils::Helpers\n",
            "--> Working on ExtUtils::Config\n",
            "Fetching http://www.cpan.org/authors/id/L/LE/LEONT/ExtUtils-Config-0.008.tar.gz ... OK\n",
            "Configuring ExtUtils-Config-0.008 ... OK\n",
            "Building and testing ExtUtils-Config-0.008 ... OK\n",
            "Successfully installed ExtUtils-Config-0.008\n",
            "--> Working on ExtUtils::InstallPaths\n",
            "Fetching http://www.cpan.org/authors/id/L/LE/LEONT/ExtUtils-InstallPaths-0.012.tar.gz ... OK\n",
            "Configuring ExtUtils-InstallPaths-0.012 ... OK\n",
            "Building and testing ExtUtils-InstallPaths-0.012 ... OK\n",
            "Successfully installed ExtUtils-InstallPaths-0.012\n",
            "--> Working on ExtUtils::Helpers\n",
            "Fetching http://www.cpan.org/authors/id/L/LE/LEONT/ExtUtils-Helpers-0.026.tar.gz ... OK\n",
            "Configuring ExtUtils-Helpers-0.026 ... OK\n",
            "Building and testing ExtUtils-Helpers-0.026 ... OK\n",
            "Successfully installed ExtUtils-Helpers-0.026\n",
            "Configuring Module-Build-Tiny-0.043 ... OK\n",
            "Building and testing Module-Build-Tiny-0.043 ... OK\n",
            "Successfully installed Module-Build-Tiny-0.043\n",
            "Configuring HTTP-Daemon-6.16 ... OK\n",
            "==> Found dependencies: Test::Needs\n",
            "--> Working on Test::Needs\n",
            "Fetching http://www.cpan.org/authors/id/H/HA/HAARG/Test-Needs-0.002010.tar.gz ... OK\n",
            "Configuring Test-Needs-0.002010 ... OK\n",
            "Building and testing Test-Needs-0.002010 ... OK\n",
            "Successfully installed Test-Needs-0.002010\n",
            "Building and testing HTTP-Daemon-6.16 ... OK\n",
            "Successfully installed HTTP-Daemon-6.16\n",
            "--> Working on Test::RequiresInternet\n",
            "Fetching http://www.cpan.org/authors/id/M/MA/MALLEN/Test-RequiresInternet-0.05.tar.gz ... OK\n",
            "Configuring Test-RequiresInternet-0.05 ... OK\n",
            "Building and testing Test-RequiresInternet-0.05 ... OK\n",
            "Successfully installed Test-RequiresInternet-0.05\n",
            "--> Working on HTTP::Cookies\n",
            "Fetching http://www.cpan.org/authors/id/O/OA/OALDERS/HTTP-Cookies-6.10.tar.gz ... OK\n",
            "Configuring HTTP-Cookies-6.10 ... OK\n",
            "Building and testing HTTP-Cookies-6.10 ... OK\n",
            "Successfully installed HTTP-Cookies-6.10\n",
            "--> Working on Test::Fatal\n",
            "Fetching http://www.cpan.org/authors/id/R/RJ/RJBS/Test-Fatal-0.017.tar.gz ... OK\n",
            "Configuring Test-Fatal-0.017 ... OK\n",
            "Building and testing Test-Fatal-0.017 ... OK\n",
            "Successfully installed Test-Fatal-0.017\n",
            "--> Working on HTTP::Negotiate\n",
            "Fetching http://www.cpan.org/authors/id/G/GA/GAAS/HTTP-Negotiate-6.01.tar.gz ... OK\n",
            "Configuring HTTP-Negotiate-6.01 ... OK\n",
            "Building and testing HTTP-Negotiate-6.01 ... OK\n",
            "Successfully installed HTTP-Negotiate-6.01\n",
            "Building and testing libwww-perl-6.68 ... OK\n",
            "Successfully installed libwww-perl-6.68\n",
            "Building and testing XML-Parser-2.46 ... OK\n",
            "Successfully installed XML-Parser-2.46\n",
            "15 distributions installed\n"
          ]
        }
      ]
    },
    {
      "cell_type": "code",
      "source": [
        "#Model Evaluation for Extractive summarization Text Rank algorithm\n",
        "\n",
        "from pythonrouge.pythonrouge import Pythonrouge\n",
        "\n",
        "# system summary(prediction) & reference summary\n",
        "\n",
        "summary = [[[\"Santiago is a Shepherd who has a recurring dream which is supposedly prophetic.Inspired on learning this, he undertakes a journey to Egypt to discover the meaning of life and fulfill his destiny.During the course of his travels, he learns of his true purpose and meets many characters, including an “Alchemist”, that teach him valuable lessons about achieving his dreams.Santiago sets his sights on obtaining a certain kind of “treasure” for which he travels to Egypt.\"]]]\n",
        "reference = [[[\"Santiago is a Shepherd who has a recurring dream which is supposedly prophetic.he undertakes a journey to Egypt to discover the meaning of life and fulfill his destiny.During the course of his travels, he learns of his true purpose and meets many characters, including an “Alchemist”, .Santiago sets his sights on obtaining a certain kind of “treasure” for which he travels to Egypt.The key message is, “when you want something, all the universe conspires in helping you to achieve it.”Towards the final arc, Santiago gets robbed by bandits who end up revealing that the “treasure” he was looking for is buried in the place where his journey began.\"]]]\n",
        " # initialize setting of ROUGE to evaluate ROUGE-1, 2, W and SU4\n",
        "\n",
        "rouge = Pythonrouge(summary_file_exist=False,summary=summary, reference=reference,\n",
        "                    n_gram=2, ROUGE_SU4=True, ROUGE_L=True,ROUGE_W=True,ROUGE_W_Weight=1.2,\n",
        "                    recall_only=False, stemming=True, stopwords=True,\n",
        "                    word_level=True, length_limit=True, length=50,\n",
        "                    use_cf=False, cf=95, scoring_formula='average',\n",
        "                    resampling=True, samples=1000, favor=True, p=0.5)\n",
        "\n",
        "score = rouge.calc_score()\n",
        "\n",
        "print(score)"
      ],
      "metadata": {
        "colab": {
          "base_uri": "https://localhost:8080/"
        },
        "id": "uwrR019Xnjiu",
        "outputId": "194fadc9-ff97-4506-dd82-5334b1e9b6ea"
      },
      "execution_count": 4,
      "outputs": [
        {
          "output_type": "stream",
          "name": "stdout",
          "text": [
            "{'ROUGE-1-R': 0.88, 'ROUGE-1-P': 0.91667, 'ROUGE-1-F': 0.89796, 'ROUGE-2-R': 0.83333, 'ROUGE-2-P': 0.86957, 'ROUGE-2-F': 0.85106, 'ROUGE-L-R': 0.88, 'ROUGE-L-P': 0.91667, 'ROUGE-L-F': 0.89796, 'ROUGE-W-1.2-R': 0.46227, 'ROUGE-W-1.2-P': 0.91667, 'ROUGE-W-1.2-F': 0.6146, 'ROUGE-SU4-R': 0.79851, 'ROUGE-SU4-P': 0.83594, 'ROUGE-SU4-F': 0.8168}\n"
          ]
        }
      ]
    },
    {
      "cell_type": "code",
      "source": [],
      "metadata": {
        "id": "P5t4UBQQnjoe"
      },
      "execution_count": null,
      "outputs": []
    },
    {
      "cell_type": "markdown",
      "source": [],
      "metadata": {
        "id": "DCYIh_zDngqg"
      }
    },
    {
      "cell_type": "markdown",
      "source": [
        "#Tennis Articles "
      ],
      "metadata": {
        "id": "4L1lkBEEB7ZJ"
      }
    },
    {
      "cell_type": "code",
      "source": [
        "from google.colab import files\n",
        "uploaded = files.upload()"
      ],
      "metadata": {
        "colab": {
          "base_uri": "https://localhost:8080/",
          "height": 73
        },
        "id": "8BkXjIORBVVS",
        "outputId": "3a7b344e-8c59-4116-ce0f-3e31648ee058"
      },
      "execution_count": null,
      "outputs": [
        {
          "output_type": "display_data",
          "data": {
            "text/plain": [
              "<IPython.core.display.HTML object>"
            ],
            "text/html": [
              "\n",
              "     <input type=\"file\" id=\"files-c760d54f-4527-4416-b539-596f39646e1c\" name=\"files[]\" multiple disabled\n",
              "        style=\"border:none\" />\n",
              "     <output id=\"result-c760d54f-4527-4416-b539-596f39646e1c\">\n",
              "      Upload widget is only available when the cell has been executed in the\n",
              "      current browser session. Please rerun this cell to enable.\n",
              "      </output>\n",
              "      <script>// Copyright 2017 Google LLC\n",
              "//\n",
              "// Licensed under the Apache License, Version 2.0 (the \"License\");\n",
              "// you may not use this file except in compliance with the License.\n",
              "// You may obtain a copy of the License at\n",
              "//\n",
              "//      http://www.apache.org/licenses/LICENSE-2.0\n",
              "//\n",
              "// Unless required by applicable law or agreed to in writing, software\n",
              "// distributed under the License is distributed on an \"AS IS\" BASIS,\n",
              "// WITHOUT WARRANTIES OR CONDITIONS OF ANY KIND, either express or implied.\n",
              "// See the License for the specific language governing permissions and\n",
              "// limitations under the License.\n",
              "\n",
              "/**\n",
              " * @fileoverview Helpers for google.colab Python module.\n",
              " */\n",
              "(function(scope) {\n",
              "function span(text, styleAttributes = {}) {\n",
              "  const element = document.createElement('span');\n",
              "  element.textContent = text;\n",
              "  for (const key of Object.keys(styleAttributes)) {\n",
              "    element.style[key] = styleAttributes[key];\n",
              "  }\n",
              "  return element;\n",
              "}\n",
              "\n",
              "// Max number of bytes which will be uploaded at a time.\n",
              "const MAX_PAYLOAD_SIZE = 100 * 1024;\n",
              "\n",
              "function _uploadFiles(inputId, outputId) {\n",
              "  const steps = uploadFilesStep(inputId, outputId);\n",
              "  const outputElement = document.getElementById(outputId);\n",
              "  // Cache steps on the outputElement to make it available for the next call\n",
              "  // to uploadFilesContinue from Python.\n",
              "  outputElement.steps = steps;\n",
              "\n",
              "  return _uploadFilesContinue(outputId);\n",
              "}\n",
              "\n",
              "// This is roughly an async generator (not supported in the browser yet),\n",
              "// where there are multiple asynchronous steps and the Python side is going\n",
              "// to poll for completion of each step.\n",
              "// This uses a Promise to block the python side on completion of each step,\n",
              "// then passes the result of the previous step as the input to the next step.\n",
              "function _uploadFilesContinue(outputId) {\n",
              "  const outputElement = document.getElementById(outputId);\n",
              "  const steps = outputElement.steps;\n",
              "\n",
              "  const next = steps.next(outputElement.lastPromiseValue);\n",
              "  return Promise.resolve(next.value.promise).then((value) => {\n",
              "    // Cache the last promise value to make it available to the next\n",
              "    // step of the generator.\n",
              "    outputElement.lastPromiseValue = value;\n",
              "    return next.value.response;\n",
              "  });\n",
              "}\n",
              "\n",
              "/**\n",
              " * Generator function which is called between each async step of the upload\n",
              " * process.\n",
              " * @param {string} inputId Element ID of the input file picker element.\n",
              " * @param {string} outputId Element ID of the output display.\n",
              " * @return {!Iterable<!Object>} Iterable of next steps.\n",
              " */\n",
              "function* uploadFilesStep(inputId, outputId) {\n",
              "  const inputElement = document.getElementById(inputId);\n",
              "  inputElement.disabled = false;\n",
              "\n",
              "  const outputElement = document.getElementById(outputId);\n",
              "  outputElement.innerHTML = '';\n",
              "\n",
              "  const pickedPromise = new Promise((resolve) => {\n",
              "    inputElement.addEventListener('change', (e) => {\n",
              "      resolve(e.target.files);\n",
              "    });\n",
              "  });\n",
              "\n",
              "  const cancel = document.createElement('button');\n",
              "  inputElement.parentElement.appendChild(cancel);\n",
              "  cancel.textContent = 'Cancel upload';\n",
              "  const cancelPromise = new Promise((resolve) => {\n",
              "    cancel.onclick = () => {\n",
              "      resolve(null);\n",
              "    };\n",
              "  });\n",
              "\n",
              "  // Wait for the user to pick the files.\n",
              "  const files = yield {\n",
              "    promise: Promise.race([pickedPromise, cancelPromise]),\n",
              "    response: {\n",
              "      action: 'starting',\n",
              "    }\n",
              "  };\n",
              "\n",
              "  cancel.remove();\n",
              "\n",
              "  // Disable the input element since further picks are not allowed.\n",
              "  inputElement.disabled = true;\n",
              "\n",
              "  if (!files) {\n",
              "    return {\n",
              "      response: {\n",
              "        action: 'complete',\n",
              "      }\n",
              "    };\n",
              "  }\n",
              "\n",
              "  for (const file of files) {\n",
              "    const li = document.createElement('li');\n",
              "    li.append(span(file.name, {fontWeight: 'bold'}));\n",
              "    li.append(span(\n",
              "        `(${file.type || 'n/a'}) - ${file.size} bytes, ` +\n",
              "        `last modified: ${\n",
              "            file.lastModifiedDate ? file.lastModifiedDate.toLocaleDateString() :\n",
              "                                    'n/a'} - `));\n",
              "    const percent = span('0% done');\n",
              "    li.appendChild(percent);\n",
              "\n",
              "    outputElement.appendChild(li);\n",
              "\n",
              "    const fileDataPromise = new Promise((resolve) => {\n",
              "      const reader = new FileReader();\n",
              "      reader.onload = (e) => {\n",
              "        resolve(e.target.result);\n",
              "      };\n",
              "      reader.readAsArrayBuffer(file);\n",
              "    });\n",
              "    // Wait for the data to be ready.\n",
              "    let fileData = yield {\n",
              "      promise: fileDataPromise,\n",
              "      response: {\n",
              "        action: 'continue',\n",
              "      }\n",
              "    };\n",
              "\n",
              "    // Use a chunked sending to avoid message size limits. See b/62115660.\n",
              "    let position = 0;\n",
              "    do {\n",
              "      const length = Math.min(fileData.byteLength - position, MAX_PAYLOAD_SIZE);\n",
              "      const chunk = new Uint8Array(fileData, position, length);\n",
              "      position += length;\n",
              "\n",
              "      const base64 = btoa(String.fromCharCode.apply(null, chunk));\n",
              "      yield {\n",
              "        response: {\n",
              "          action: 'append',\n",
              "          file: file.name,\n",
              "          data: base64,\n",
              "        },\n",
              "      };\n",
              "\n",
              "      let percentDone = fileData.byteLength === 0 ?\n",
              "          100 :\n",
              "          Math.round((position / fileData.byteLength) * 100);\n",
              "      percent.textContent = `${percentDone}% done`;\n",
              "\n",
              "    } while (position < fileData.byteLength);\n",
              "  }\n",
              "\n",
              "  // All done.\n",
              "  yield {\n",
              "    response: {\n",
              "      action: 'complete',\n",
              "    }\n",
              "  };\n",
              "}\n",
              "\n",
              "scope.google = scope.google || {};\n",
              "scope.google.colab = scope.google.colab || {};\n",
              "scope.google.colab._files = {\n",
              "  _uploadFiles,\n",
              "  _uploadFilesContinue,\n",
              "};\n",
              "})(self);\n",
              "</script> "
            ]
          },
          "metadata": {}
        },
        {
          "output_type": "stream",
          "name": "stdout",
          "text": [
            "Saving tennis_articles.csv to tennis_articles.csv\n"
          ]
        }
      ]
    },
    {
      "cell_type": "code",
      "source": [
        "#Importing file\n",
        "import pandas as pd\n",
        "import io\n",
        " \n",
        "data = pd.read_csv(io.BytesIO(uploaded['tennis_articles.csv']), encoding='ISO-8859-1')\n",
        "print(data)"
      ],
      "metadata": {
        "colab": {
          "base_uri": "https://localhost:8080/"
        },
        "id": "2uFpt38uCHX4",
        "outputId": "eeb340e1-9816-40f5-ff01-fb30b8c08f76"
      },
      "execution_count": null,
      "outputs": [
        {
          "output_type": "stream",
          "name": "stdout",
          "text": [
            "   article_id                                      article_title  \\\n",
            "0           1  I do not have friends in tennis, says Maria Sh...   \n",
            "1           2  Federer defeats Medvedev to advance to 14th Sw...   \n",
            "2           3  Tennis: Roger Federer ignored deadline set by ...   \n",
            "3           4  Nishikori to face off against Anderson in Vien...   \n",
            "4           5  Roger Federer has made this huge change to ten...   \n",
            "5           6  Rafael Nadal: World No 1 ARRIVES for Paris Mas...   \n",
            "6           7  TENNIS.COM PODCAST: POINT DEFENSE, RANKING DRO...   \n",
            "7           8  Tennis journalists heartbreaking insight on T...   \n",
            "\n",
            "                                        article_text  \\\n",
            "0  Maria Sharapova has basically no friends as te...   \n",
            "1  BASEL, Switzerland (AP)  Roger Federer advanc...   \n",
            "2  Roger Federer has revealed that organisers of ...   \n",
            "3  Kei Nishikori will try to end his long losing ...   \n",
            "4  Federer, 37, first broke through on tour over ...   \n",
            "5  Nadal has not played tennis since he was force...   \n",
            "6  Tennis giveth, and tennis taketh away. The end...   \n",
            "7  I PLAYED golf last week with Todd Reid. He pic...   \n",
            "\n",
            "                                              source  \n",
            "0  https://www.tennisworldusa.org/tennis/news/Mar...  \n",
            "1  http://www.tennis.com/pro-game/2018/10/copil-s...  \n",
            "2  https://scroll.in/field/899938/tennis-roger-fe...  \n",
            "3  http://www.tennis.com/pro-game/2018/10/nishiko...  \n",
            "4  https://www.express.co.uk/sport/tennis/1036101...  \n",
            "5  https://www.express.co.uk/sport/tennis/1037119...  \n",
            "6  http://www.tennis.com/pro-game/2018/10/tennisc...  \n",
            "7  https://www.foxsports.com.au/tennis/tennis-jou...  \n"
          ]
        }
      ]
    },
    {
      "cell_type": "code",
      "source": [
        "data.head(10)"
      ],
      "metadata": {
        "colab": {
          "base_uri": "https://localhost:8080/",
          "height": 379
        },
        "id": "rD0MTuthC3_S",
        "outputId": "1c41f646-7198-4bc3-ab22-f3a7c3013608"
      },
      "execution_count": null,
      "outputs": [
        {
          "output_type": "execute_result",
          "data": {
            "text/plain": [
              "   article_id                                      article_title  \\\n",
              "0           1  I do not have friends in tennis, says Maria Sh...   \n",
              "1           2  Federer defeats Medvedev to advance to 14th Sw...   \n",
              "2           3  Tennis: Roger Federer ignored deadline set by ...   \n",
              "3           4  Nishikori to face off against Anderson in Vien...   \n",
              "4           5  Roger Federer has made this huge change to ten...   \n",
              "5           6  Rafael Nadal: World No 1 ARRIVES for Paris Mas...   \n",
              "6           7  TENNIS.COM PODCAST: POINT DEFENSE, RANKING DRO...   \n",
              "7           8  Tennis journalists heartbreaking insight on T...   \n",
              "\n",
              "                                        article_text  \\\n",
              "0  Maria Sharapova has basically no friends as te...   \n",
              "1  BASEL, Switzerland (AP)  Roger Federer advanc...   \n",
              "2  Roger Federer has revealed that organisers of ...   \n",
              "3  Kei Nishikori will try to end his long losing ...   \n",
              "4  Federer, 37, first broke through on tour over ...   \n",
              "5  Nadal has not played tennis since he was force...   \n",
              "6  Tennis giveth, and tennis taketh away. The end...   \n",
              "7  I PLAYED golf last week with Todd Reid. He pic...   \n",
              "\n",
              "                                              source  \n",
              "0  https://www.tennisworldusa.org/tennis/news/Mar...  \n",
              "1  http://www.tennis.com/pro-game/2018/10/copil-s...  \n",
              "2  https://scroll.in/field/899938/tennis-roger-fe...  \n",
              "3  http://www.tennis.com/pro-game/2018/10/nishiko...  \n",
              "4  https://www.express.co.uk/sport/tennis/1036101...  \n",
              "5  https://www.express.co.uk/sport/tennis/1037119...  \n",
              "6  http://www.tennis.com/pro-game/2018/10/tennisc...  \n",
              "7  https://www.foxsports.com.au/tennis/tennis-jou...  "
            ],
            "text/html": [
              "\n",
              "  <div id=\"df-ef5f4c60-b669-41cb-8f45-1e2f89b0ff13\">\n",
              "    <div class=\"colab-df-container\">\n",
              "      <div>\n",
              "<style scoped>\n",
              "    .dataframe tbody tr th:only-of-type {\n",
              "        vertical-align: middle;\n",
              "    }\n",
              "\n",
              "    .dataframe tbody tr th {\n",
              "        vertical-align: top;\n",
              "    }\n",
              "\n",
              "    .dataframe thead th {\n",
              "        text-align: right;\n",
              "    }\n",
              "</style>\n",
              "<table border=\"1\" class=\"dataframe\">\n",
              "  <thead>\n",
              "    <tr style=\"text-align: right;\">\n",
              "      <th></th>\n",
              "      <th>article_id</th>\n",
              "      <th>article_title</th>\n",
              "      <th>article_text</th>\n",
              "      <th>source</th>\n",
              "    </tr>\n",
              "  </thead>\n",
              "  <tbody>\n",
              "    <tr>\n",
              "      <th>0</th>\n",
              "      <td>1</td>\n",
              "      <td>I do not have friends in tennis, says Maria Sh...</td>\n",
              "      <td>Maria Sharapova has basically no friends as te...</td>\n",
              "      <td>https://www.tennisworldusa.org/tennis/news/Mar...</td>\n",
              "    </tr>\n",
              "    <tr>\n",
              "      <th>1</th>\n",
              "      <td>2</td>\n",
              "      <td>Federer defeats Medvedev to advance to 14th Sw...</td>\n",
              "      <td>BASEL, Switzerland (AP)  Roger Federer advanc...</td>\n",
              "      <td>http://www.tennis.com/pro-game/2018/10/copil-s...</td>\n",
              "    </tr>\n",
              "    <tr>\n",
              "      <th>2</th>\n",
              "      <td>3</td>\n",
              "      <td>Tennis: Roger Federer ignored deadline set by ...</td>\n",
              "      <td>Roger Federer has revealed that organisers of ...</td>\n",
              "      <td>https://scroll.in/field/899938/tennis-roger-fe...</td>\n",
              "    </tr>\n",
              "    <tr>\n",
              "      <th>3</th>\n",
              "      <td>4</td>\n",
              "      <td>Nishikori to face off against Anderson in Vien...</td>\n",
              "      <td>Kei Nishikori will try to end his long losing ...</td>\n",
              "      <td>http://www.tennis.com/pro-game/2018/10/nishiko...</td>\n",
              "    </tr>\n",
              "    <tr>\n",
              "      <th>4</th>\n",
              "      <td>5</td>\n",
              "      <td>Roger Federer has made this huge change to ten...</td>\n",
              "      <td>Federer, 37, first broke through on tour over ...</td>\n",
              "      <td>https://www.express.co.uk/sport/tennis/1036101...</td>\n",
              "    </tr>\n",
              "    <tr>\n",
              "      <th>5</th>\n",
              "      <td>6</td>\n",
              "      <td>Rafael Nadal: World No 1 ARRIVES for Paris Mas...</td>\n",
              "      <td>Nadal has not played tennis since he was force...</td>\n",
              "      <td>https://www.express.co.uk/sport/tennis/1037119...</td>\n",
              "    </tr>\n",
              "    <tr>\n",
              "      <th>6</th>\n",
              "      <td>7</td>\n",
              "      <td>TENNIS.COM PODCAST: POINT DEFENSE, RANKING DRO...</td>\n",
              "      <td>Tennis giveth, and tennis taketh away. The end...</td>\n",
              "      <td>http://www.tennis.com/pro-game/2018/10/tennisc...</td>\n",
              "    </tr>\n",
              "    <tr>\n",
              "      <th>7</th>\n",
              "      <td>8</td>\n",
              "      <td>Tennis journalists heartbreaking insight on T...</td>\n",
              "      <td>I PLAYED golf last week with Todd Reid. He pic...</td>\n",
              "      <td>https://www.foxsports.com.au/tennis/tennis-jou...</td>\n",
              "    </tr>\n",
              "  </tbody>\n",
              "</table>\n",
              "</div>\n",
              "      <button class=\"colab-df-convert\" onclick=\"convertToInteractive('df-ef5f4c60-b669-41cb-8f45-1e2f89b0ff13')\"\n",
              "              title=\"Convert this dataframe to an interactive table.\"\n",
              "              style=\"display:none;\">\n",
              "        \n",
              "  <svg xmlns=\"http://www.w3.org/2000/svg\" height=\"24px\"viewBox=\"0 0 24 24\"\n",
              "       width=\"24px\">\n",
              "    <path d=\"M0 0h24v24H0V0z\" fill=\"none\"/>\n",
              "    <path d=\"M18.56 5.44l.94 2.06.94-2.06 2.06-.94-2.06-.94-.94-2.06-.94 2.06-2.06.94zm-11 1L8.5 8.5l.94-2.06 2.06-.94-2.06-.94L8.5 2.5l-.94 2.06-2.06.94zm10 10l.94 2.06.94-2.06 2.06-.94-2.06-.94-.94-2.06-.94 2.06-2.06.94z\"/><path d=\"M17.41 7.96l-1.37-1.37c-.4-.4-.92-.59-1.43-.59-.52 0-1.04.2-1.43.59L10.3 9.45l-7.72 7.72c-.78.78-.78 2.05 0 2.83L4 21.41c.39.39.9.59 1.41.59.51 0 1.02-.2 1.41-.59l7.78-7.78 2.81-2.81c.8-.78.8-2.07 0-2.86zM5.41 20L4 18.59l7.72-7.72 1.47 1.35L5.41 20z\"/>\n",
              "  </svg>\n",
              "      </button>\n",
              "      \n",
              "  <style>\n",
              "    .colab-df-container {\n",
              "      display:flex;\n",
              "      flex-wrap:wrap;\n",
              "      gap: 12px;\n",
              "    }\n",
              "\n",
              "    .colab-df-convert {\n",
              "      background-color: #E8F0FE;\n",
              "      border: none;\n",
              "      border-radius: 50%;\n",
              "      cursor: pointer;\n",
              "      display: none;\n",
              "      fill: #1967D2;\n",
              "      height: 32px;\n",
              "      padding: 0 0 0 0;\n",
              "      width: 32px;\n",
              "    }\n",
              "\n",
              "    .colab-df-convert:hover {\n",
              "      background-color: #E2EBFA;\n",
              "      box-shadow: 0px 1px 2px rgba(60, 64, 67, 0.3), 0px 1px 3px 1px rgba(60, 64, 67, 0.15);\n",
              "      fill: #174EA6;\n",
              "    }\n",
              "\n",
              "    [theme=dark] .colab-df-convert {\n",
              "      background-color: #3B4455;\n",
              "      fill: #D2E3FC;\n",
              "    }\n",
              "\n",
              "    [theme=dark] .colab-df-convert:hover {\n",
              "      background-color: #434B5C;\n",
              "      box-shadow: 0px 1px 3px 1px rgba(0, 0, 0, 0.15);\n",
              "      filter: drop-shadow(0px 1px 2px rgba(0, 0, 0, 0.3));\n",
              "      fill: #FFFFFF;\n",
              "    }\n",
              "  </style>\n",
              "\n",
              "      <script>\n",
              "        const buttonEl =\n",
              "          document.querySelector('#df-ef5f4c60-b669-41cb-8f45-1e2f89b0ff13 button.colab-df-convert');\n",
              "        buttonEl.style.display =\n",
              "          google.colab.kernel.accessAllowed ? 'block' : 'none';\n",
              "\n",
              "        async function convertToInteractive(key) {\n",
              "          const element = document.querySelector('#df-ef5f4c60-b669-41cb-8f45-1e2f89b0ff13');\n",
              "          const dataTable =\n",
              "            await google.colab.kernel.invokeFunction('convertToInteractive',\n",
              "                                                     [key], {});\n",
              "          if (!dataTable) return;\n",
              "\n",
              "          const docLinkHtml = 'Like what you see? Visit the ' +\n",
              "            '<a target=\"_blank\" href=https://colab.research.google.com/notebooks/data_table.ipynb>data table notebook</a>'\n",
              "            + ' to learn more about interactive tables.';\n",
              "          element.innerHTML = '';\n",
              "          dataTable['output_type'] = 'display_data';\n",
              "          await google.colab.output.renderOutput(dataTable, element);\n",
              "          const docLink = document.createElement('div');\n",
              "          docLink.innerHTML = docLinkHtml;\n",
              "          element.appendChild(docLink);\n",
              "        }\n",
              "      </script>\n",
              "    </div>\n",
              "  </div>\n",
              "  "
            ]
          },
          "metadata": {},
          "execution_count": 31
        }
      ]
    },
    {
      "cell_type": "code",
      "source": [
        "import numpy as np\n",
        "import pandas as pd\n",
        "import nltk\n",
        "nltk.download('punkt') # one time execution\n",
        "import re"
      ],
      "metadata": {
        "colab": {
          "base_uri": "https://localhost:8080/"
        },
        "id": "HcT0aVDhCR_6",
        "outputId": "9bc270a5-7395-410f-a8d1-2876d1df7f90"
      },
      "execution_count": null,
      "outputs": [
        {
          "output_type": "stream",
          "name": "stderr",
          "text": [
            "[nltk_data] Downloading package punkt to /root/nltk_data...\n",
            "[nltk_data]   Package punkt is already up-to-date!\n"
          ]
        }
      ]
    },
    {
      "cell_type": "code",
      "source": [
        "data['article_text'][0]"
      ],
      "metadata": {
        "colab": {
          "base_uri": "https://localhost:8080/",
          "height": 139
        },
        "id": "Fn1aTzq7CwnB",
        "outputId": "5d915eab-953f-40fb-f188-b1763dc097a6"
      },
      "execution_count": null,
      "outputs": [
        {
          "output_type": "execute_result",
          "data": {
            "text/plain": [
              "\"Maria Sharapova has basically no friends as tennis players on the WTA Tour. The Russian player has no problems in openly speaking about it and in a recent interview she said: 'I don't really hide any feelings too much. I think everyone knows this is my job here. When I'm on the courts or when I'm on the court playing, I'm a competitor and I want to beat every single person whether they're in the locker room or across the net. So I'm not the one to strike up a conversation about the weather and know that in the next few minutes I have to go and try to win a tennis match. I'm a pretty competitive girl. I say my hellos, but I'm not sending any players flowers as well. Uhm, I'm not really friendly or close to many players. I have not a lot of friends away from the courts.' When she said she is not really close to a lot of players, is that something strategic that she is doing? Is it different on the men's tour than the women's tour? 'No, not at all. I think just because you're in the same sport doesn't mean that you have to be friends with everyone just because you're categorized, you're a tennis player, so you're going to get along with tennis players. I think every person has different interests. I have friends that have completely different jobs and interests, and I've met them in very different parts of my life. I think everyone just thinks because we're tennis players we should be the greatest of friends. But ultimately tennis is just a very small part of what we do. There are so many other things that we're interested in, that we do.' ALSO READ: Maria Sharapova reveals how tennis keeps her motivated.\""
            ],
            "application/vnd.google.colaboratory.intrinsic+json": {
              "type": "string"
            }
          },
          "metadata": {},
          "execution_count": 34
        }
      ]
    },
    {
      "cell_type": "code",
      "source": [
        "from nltk.tokenize import sent_tokenize\n",
        "sentences = [] \n",
        "for s in data['article_text']: \n",
        "  sentences.append(sent_tokenize(s))# flatten list\n",
        "sentences = [y for x in sentences for y in x]\n"
      ],
      "metadata": {
        "id": "WhZ1UIFVDVpe"
      },
      "execution_count": null,
      "outputs": []
    },
    {
      "cell_type": "code",
      "source": [
        "sentences[:5]"
      ],
      "metadata": {
        "colab": {
          "base_uri": "https://localhost:8080/"
        },
        "id": "0jn4c7LsDht9",
        "outputId": "dd811c74-464d-469d-8bfa-97caa97dfb52"
      },
      "execution_count": null,
      "outputs": [
        {
          "output_type": "execute_result",
          "data": {
            "text/plain": [
              "['Maria Sharapova has basically no friends as tennis players on the WTA Tour.',\n",
              " \"The Russian player has no problems in openly speaking about it and in a recent interview she said: 'I don't really hide any feelings too much.\",\n",
              " 'I think everyone knows this is my job here.',\n",
              " \"When I'm on the courts or when I'm on the court playing, I'm a competitor and I want to beat every single person whether they're in the locker room or across the net.\",\n",
              " \"So I'm not the one to strike up a conversation about the weather and know that in the next few minutes I have to go and try to win a tennis match.\"]"
            ]
          },
          "metadata": {},
          "execution_count": 38
        }
      ]
    },
    {
      "cell_type": "code",
      "source": [
        "!wget http://nlp.stanford.edu/data/glove.6B.zip \n",
        "!unzip glove*.zip"
      ],
      "metadata": {
        "colab": {
          "base_uri": "https://localhost:8080/"
        },
        "id": "O4bMHJpIDpxI",
        "outputId": "bed60615-e8a4-4068-b94c-89609de5c008"
      },
      "execution_count": null,
      "outputs": [
        {
          "output_type": "stream",
          "name": "stdout",
          "text": [
            "--2023-04-21 09:04:48--  http://nlp.stanford.edu/data/glove.6B.zip\n",
            "Resolving nlp.stanford.edu (nlp.stanford.edu)... 171.64.67.140\n",
            "Connecting to nlp.stanford.edu (nlp.stanford.edu)|171.64.67.140|:80... connected.\n",
            "HTTP request sent, awaiting response... 302 Found\n",
            "Location: https://nlp.stanford.edu/data/glove.6B.zip [following]\n",
            "--2023-04-21 09:04:49--  https://nlp.stanford.edu/data/glove.6B.zip\n",
            "Connecting to nlp.stanford.edu (nlp.stanford.edu)|171.64.67.140|:443... connected.\n",
            "HTTP request sent, awaiting response... 301 Moved Permanently\n",
            "Location: https://downloads.cs.stanford.edu/nlp/data/glove.6B.zip [following]\n",
            "--2023-04-21 09:04:49--  https://downloads.cs.stanford.edu/nlp/data/glove.6B.zip\n",
            "Resolving downloads.cs.stanford.edu (downloads.cs.stanford.edu)... 171.64.64.22\n",
            "Connecting to downloads.cs.stanford.edu (downloads.cs.stanford.edu)|171.64.64.22|:443... connected.\n",
            "HTTP request sent, awaiting response... 200 OK\n",
            "Length: 862182613 (822M) [application/zip]\n",
            "Saving to: ‘glove.6B.zip’\n",
            "\n",
            "glove.6B.zip        100%[===================>] 822.24M  5.02MB/s    in 2m 39s  \n",
            "\n",
            "2023-04-21 09:07:28 (5.18 MB/s) - ‘glove.6B.zip’ saved [862182613/862182613]\n",
            "\n",
            "Archive:  glove.6B.zip\n",
            "  inflating: glove.6B.50d.txt        \n",
            "  inflating: glove.6B.100d.txt       \n",
            "  inflating: glove.6B.200d.txt       \n",
            "  inflating: glove.6B.300d.txt       \n"
          ]
        }
      ]
    },
    {
      "cell_type": "code",
      "source": [
        "# Extract word vectors \n",
        "word_embeddings = {} \n",
        "f = open('glove.6B.100d.txt', encoding='utf-8') \n",
        "for line in f: \n",
        "    values = line.split() \n",
        "    word = values[0] \n",
        "    coefs = np.asarray(values[1:], dtype='float32')   \n",
        "    word_embeddings[word] = coefs \n",
        "f.close()"
      ],
      "metadata": {
        "id": "QAUxLI6zDxIR"
      },
      "execution_count": null,
      "outputs": []
    },
    {
      "cell_type": "code",
      "source": [
        "# remove punctuations, numbers and special characters \n",
        "clean_sentences = pd.Series(sentences).str.replace(\"[^a-zA-Z]\", \" \") # make alphabets lowercase \n",
        "clean_sentences = [s.lower() for s in clean_sentences]\n"
      ],
      "metadata": {
        "colab": {
          "base_uri": "https://localhost:8080/"
        },
        "id": "fGjhntkID1CX",
        "outputId": "817ac66f-c90e-4fa7-ff82-0dc7729e3a60"
      },
      "execution_count": null,
      "outputs": [
        {
          "output_type": "stream",
          "name": "stderr",
          "text": [
            "<ipython-input-43-cb4e3ac6bf34>:2: FutureWarning: The default value of regex will change from True to False in a future version.\n",
            "  clean_sentences = pd.Series(sentences).str.replace(\"[^a-zA-Z]\", \" \") # make alphabets lowercase\n"
          ]
        }
      ]
    },
    {
      "cell_type": "code",
      "source": [
        "nltk.download('stopwords')"
      ],
      "metadata": {
        "colab": {
          "base_uri": "https://localhost:8080/"
        },
        "id": "2Itgoe5XH12o",
        "outputId": "3485a90b-0ed1-4042-ea40-89a8d4d41efc"
      },
      "execution_count": null,
      "outputs": [
        {
          "output_type": "stream",
          "name": "stderr",
          "text": [
            "[nltk_data] Downloading package stopwords to /root/nltk_data...\n",
            "[nltk_data]   Package stopwords is already up-to-date!\n"
          ]
        },
        {
          "output_type": "execute_result",
          "data": {
            "text/plain": [
              "True"
            ]
          },
          "metadata": {},
          "execution_count": 44
        }
      ]
    },
    {
      "cell_type": "code",
      "source": [
        "from nltk.corpus import stopwords \n",
        "stop_words = stopwords.words('english')\n"
      ],
      "metadata": {
        "id": "C577rp-DIGtg"
      },
      "execution_count": null,
      "outputs": []
    },
    {
      "cell_type": "code",
      "source": [
        "# function to remove stopwords \n",
        "def remove_stopwords(sen):     \n",
        "    sen_new = \" \".join([i for i in sen if i not in stop_words])          \n",
        "    return sen_new# remove stopwords from the sentences \n",
        "clean_sentences = [remove_stopwords(r.split()) for r in clean_sentences]"
      ],
      "metadata": {
        "id": "TVUpRyHkIXy2"
      },
      "execution_count": null,
      "outputs": []
    },
    {
      "cell_type": "code",
      "source": [
        "#Vector Representation of Sentences\n",
        "# Extract word vectors \n",
        "word_embeddings = {} \n",
        "f = open('glove.6B.100d.txt', encoding='utf-8') \n",
        "for line in f: \n",
        "    values = line.split() \n",
        "    word = values[0] \n",
        "    coefs = np.asarray(values[1:], dtype='float32')    \n",
        "    word_embeddings[word] = coefs \n",
        "f.close()"
      ],
      "metadata": {
        "id": "rnSkTubkIhQI"
      },
      "execution_count": null,
      "outputs": []
    },
    {
      "cell_type": "code",
      "source": [
        "sentence_vectors = [] \n",
        "for i in clean_sentences: \n",
        "  if len(i) != 0: \n",
        "    v = sum([word_embeddings.get(w, np.zeros((100,))) for w in  \n",
        "        i.split()])/(len(i.split())+0.001) \n",
        "  else: \n",
        "    v = np.zeros((100,)) \n",
        "  sentence_vectors.append(v)"
      ],
      "metadata": {
        "id": "TBhQmqC1Jba2"
      },
      "execution_count": null,
      "outputs": []
    },
    {
      "cell_type": "code",
      "source": [
        "# similarity matrix \n",
        "sim_mat = np.zeros([len(sentences), len(sentences)])\n"
      ],
      "metadata": {
        "id": "23YG126lJnl2"
      },
      "execution_count": null,
      "outputs": []
    },
    {
      "cell_type": "code",
      "source": [
        "from sklearn.metrics.pairwise import cosine_similarity"
      ],
      "metadata": {
        "id": "vg92-dI_JuNA"
      },
      "execution_count": null,
      "outputs": []
    },
    {
      "cell_type": "code",
      "source": [
        "for i in range(len(sentences)): \n",
        "  for j in range(len(sentences)): \n",
        "    if i != j: \n",
        "      sim_mat[i][j] = cosine_similarity (sentence_vectors[i].reshape(1,100),   \n",
        "                  sentence_vectors[j].reshape(1,100))[0,0]\n"
      ],
      "metadata": {
        "id": "NAGZdWgJJy3j"
      },
      "execution_count": null,
      "outputs": []
    },
    {
      "cell_type": "code",
      "source": [
        "import networkx as nx \n",
        "nx_graph = nx.from_numpy_array(sim_mat) \n",
        "scores = nx.pagerank(nx_graph)"
      ],
      "metadata": {
        "id": "xkz-y2S9J2Gw"
      },
      "execution_count": null,
      "outputs": []
    },
    {
      "cell_type": "code",
      "source": [
        "ranked_sentences = sorted(((scores[i],s) for i,s in \n",
        "                           enumerate(sentences)), reverse=True)# Extract top 10 sentences as the summary \n",
        "for i in range(10): \n",
        "  print(ranked_sentences[i][1])"
      ],
      "metadata": {
        "colab": {
          "base_uri": "https://localhost:8080/"
        },
        "id": "JsDD1J1uKalO",
        "outputId": "ce38ac01-3d8b-4023-8ef5-b591e1f3bdd5"
      },
      "execution_count": null,
      "outputs": [
        {
          "output_type": "stream",
          "name": "stdout",
          "text": [
            "I was on a nice trajectorythen, Reid recalled.If I hadnt got sick, I think I could have started pushing towards the second week at the slams and then who knows. Duringa comeback attempt some five years later, Reid added Bernard Tomic and 2018 US Open Federer slayer John Millman to his list of career scalps.\n",
            "Major players feel that a big event in late November combined with one in January before the Australian Open will mean too much tennis and too little rest.\n",
            "So I'm not the one to strike up a conversation about the weather and know that in the next few minutes I have to go and try to win a tennis match.\n",
            "Speaking at the Swiss Indoors tournament where he will play in Sundays final against Romanian qualifier Marius Copil, the world number three said that given the impossibly short time frame to make a decision, he opted out of any commitment.\n",
            "Currently in ninth place, Nishikori with a win could move to within 125 points of the cut for the eight-man event in London next month.\n",
            "Exhausted after spending half his round deep in the bushes searching for my ball, as well as those of two other golfers hed never met before, our incredibly giving designated driver asked if we didnt mind going straight home after signing off so he could rest up a little before heading to work.\n",
            "I felt like the best weeks that I had to get to know players when I was playing were the Fed Cup weeks or the Olympic weeks, not necessarily during the tournaments.\n",
            "I just felt like it really kind of changed where people were a little bit, definitely in the '90s, a lot more quiet, into themselves, and then it started to become better. Meanwhile, Federer is hoping he can improve his service game as he hunts his ninth Swiss Indoors title this week.\n",
            "The former Wimbledon junior champion was full of hope, excited about getting his life back together after a troubled few years and a touch-and-go battle with pancreatitis.\n",
            "He used his first break point to close out the first set before going up 3-0 in the second and wrapping up the win on his first match point.\n"
          ]
        }
      ]
    },
    {
      "cell_type": "code",
      "source": [],
      "metadata": {
        "id": "yhhLs6DnKvrd"
      },
      "execution_count": null,
      "outputs": []
    }
  ]
}